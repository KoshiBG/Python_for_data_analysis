{
  "nbformat": 4,
  "nbformat_minor": 0,
  "metadata": {
    "colab": {
      "provenance": [],
      "mount_file_id": "1629QdeOig5qkCZkpAmRHdy-vuVHhQxFa",
      "authorship_tag": "ABX9TyNRTRJNcZw35KsfSgHJLYoE",
      "include_colab_link": true
    },
    "kernelspec": {
      "name": "python3",
      "display_name": "Python 3"
    },
    "language_info": {
      "name": "python"
    }
  },
  "cells": [
    {
      "cell_type": "markdown",
      "metadata": {
        "id": "view-in-github",
        "colab_type": "text"
      },
      "source": [
        "<a href=\"https://colab.research.google.com/github/KoshiBG/Python_for_data_analysis/blob/main/%D0%93%D0%B5%D0%BD%D0%B5%D1%80%D0%B0%D1%86%D1%96%D1%8F_%D1%81%D0%B8%D0%BD%D1%82%D0%B5%D1%82%D0%B8%D1%87%D0%BD%D0%BE%D1%97_%D0%B1%D0%B0%D0%B7%D0%B8_%D0%B4%D0%B0%D0%BD%D0%B8%D1%85_%D0%BF%D1%80%D0%BE%D0%B4%D0%B0%D0%B6%D1%96%D0%B2_%D0%BA%D0%BE%D0%BC%D0%BF%D0%B0%D0%BD%D1%96%D1%97_X.ipynb\" target=\"_parent\"><img src=\"https://colab.research.google.com/assets/colab-badge.svg\" alt=\"Open In Colab\"/></a>"
      ]
    },
    {
      "cell_type": "code",
      "source": [
        "!pip install faker"
      ],
      "metadata": {
        "colab": {
          "base_uri": "https://localhost:8080/"
        },
        "id": "piJEKGjRFI7O",
        "outputId": "503334f8-028d-4b03-cb92-19a155936c28"
      },
      "execution_count": 2,
      "outputs": [
        {
          "output_type": "stream",
          "name": "stdout",
          "text": [
            "Collecting faker\n",
            "  Downloading Faker-33.3.1-py3-none-any.whl.metadata (15 kB)\n",
            "Requirement already satisfied: python-dateutil>=2.4 in /usr/local/lib/python3.10/dist-packages (from faker) (2.8.2)\n",
            "Requirement already satisfied: typing-extensions in /usr/local/lib/python3.10/dist-packages (from faker) (4.12.2)\n",
            "Requirement already satisfied: six>=1.5 in /usr/local/lib/python3.10/dist-packages (from python-dateutil>=2.4->faker) (1.17.0)\n",
            "Downloading Faker-33.3.1-py3-none-any.whl (1.9 MB)\n",
            "\u001b[?25l   \u001b[90m━━━━━━━━━━━━━━━━━━━━━━━━━━━━━━━━━━━━━━━━\u001b[0m \u001b[32m0.0/1.9 MB\u001b[0m \u001b[31m?\u001b[0m eta \u001b[36m-:--:--\u001b[0m\r\u001b[2K   \u001b[91m━━━━\u001b[0m\u001b[90m╺\u001b[0m\u001b[90m━━━━━━━━━━━━━━━━━━━━━━━━━━━━━━━━━━━\u001b[0m \u001b[32m0.2/1.9 MB\u001b[0m \u001b[31m5.6 MB/s\u001b[0m eta \u001b[36m0:00:01\u001b[0m\r\u001b[2K   \u001b[91m━━━━━━━━━━━━━━━━━━━━━━━━━━━━━━━━━━\u001b[0m\u001b[90m╺\u001b[0m\u001b[90m━━━━━\u001b[0m \u001b[32m1.6/1.9 MB\u001b[0m \u001b[31m23.3 MB/s\u001b[0m eta \u001b[36m0:00:01\u001b[0m\r\u001b[2K   \u001b[90m━━━━━━━━━━━━━━━━━━━━━━━━━━━━━━━━━━━━━━━━\u001b[0m \u001b[32m1.9/1.9 MB\u001b[0m \u001b[31m20.3 MB/s\u001b[0m eta \u001b[36m0:00:00\u001b[0m\n",
            "\u001b[?25hInstalling collected packages: faker\n",
            "Successfully installed faker-33.3.1\n"
          ]
        }
      ]
    },
    {
      "cell_type": "code",
      "source": [
        "import pandas as pd\n",
        "from faker import Faker\n",
        "import random\n",
        "from datetime import datetime\n",
        "from calendar import monthrange\n",
        "\n",
        "# Ініціалізація Faker з українською локалізацією\n",
        "fake = Faker('uk_UA')\n",
        "Faker.seed(42)\n",
        "random.seed(42)\n",
        "\n",
        "# Параметри генерації\n",
        "num_companies = 100  # Кількість компаній\n",
        "num_years = 3  # Кількість років для генерації даних\n",
        "start_year = 2022  # Початковий рік\n",
        "regions = ['Вінницька', 'Дніпропетровська', 'Київська', 'Львівська', 'Одеська']  # Регіони\n",
        "customer_types = ['Industrial', 'CME', 'XoPeKa', 'Distributor']  # Типи клієнтів\n",
        "categories = {  # Категорії продуктів та їх підкатегорії\n",
        "    'Bread Mixes': ['Whole Wheat Mix', 'Rye Bread Mix', 'Multigrain Mix'],\n",
        "    'Bread Improvers': ['Yeast Improver', 'Gluten Improver', 'Dough Conditioner'],\n",
        "    'Pastry Mixes': ['Croissant Mix', 'Danish Pastry Mix', 'Puff Pastry Mix'],\n",
        "    'Fillings': ['Fruit Filling', 'Cream Filling', 'Chocolate Filling']\n",
        "}\n",
        "\n",
        "# Генерація унікальних назв компаній\n",
        "def generate_unique_company_names(n):\n",
        "    unique_names = set()\n",
        "    while len(unique_names) < n:\n",
        "        unique_names.add(fake.company())  # Генерація унікальних назв компаній\n",
        "    return list(unique_names)\n",
        "\n",
        "# Генерація даних про продукти\n",
        "def generate_product_data(categories):\n",
        "    product_data = []\n",
        "    for category, sub_categories in categories.items():\n",
        "        for sub_category in sub_categories:\n",
        "            product_data.append({\n",
        "                'Category': category,  # Основна категорія продукту\n",
        "                'Sub_Category': sub_category,  # Підкатегорія продукту\n",
        "                'Price_Per_KG': random.randint(70, 350),  # Ціна за кг\n",
        "                'Shelf_Life_Days': random.randint(30, 180),  # Термін придатності\n",
        "                'Storage_Temperature_C': random.randrange(5, 25, 10),  # Температура зберігання\n",
        "                'Complexity_of_production': random.randint(1, 5),  # Складність виробництва\n",
        "                'Seasonal_Demand': random.choice(['Low', 'Medium', 'High']),  # Сезонний попит\n",
        "            })\n",
        "\n",
        "    return pd.DataFrame(product_data)\n",
        "\n",
        "# Генерація даних про продажі\n",
        "def generate_sales_data(num_companies, regions, start_year, num_years, categories):\n",
        "    sales_data = []\n",
        "    company_names = generate_unique_company_names(num_companies)  # Унікальні компанії\n",
        "    product_prices = generate_product_data(categories).set_index('Sub_Category')['Price_Per_KG'].to_dict()  # Ціни за підкатегоріями продуктів\n",
        "    category_list = list(categories.keys())  # Список основних категорій\n",
        "\n",
        "    order_id = 1\n",
        "\n",
        "    for year in range(start_year, start_year + num_years):  # За кожний рік\n",
        "        for month in range(1, 13):  # За кожний місяць\n",
        "            days_in_month = pd.date_range(\n",
        "                start=datetime(year, month, 1),\n",
        "                end=datetime(year, month, monthrange(year, month)[1])\n",
        "            )\n",
        "\n",
        "            for day in days_in_month:  # За кожний день місяця\n",
        "                daily_companies = random.sample(company_names, k=random.randint(5, 15))  # Випадковий набір компаній\n",
        "                for company_name in daily_companies:\n",
        "                    product_category = random.choice(category_list)  # Випадкова категорія\n",
        "                    sub_category = random.choice(categories[product_category])  # Підкатегорія\n",
        "                    price_per_kg = product_prices[sub_category]  # Ціна за кг\n",
        "                    region = random.choice(regions)  # Регіон\n",
        "                    customer_type = random.choice(customer_types)  # Тип клієнта\n",
        "\n",
        "                    sales_volume = random.randint(500, 10000)  # Обсяг продажів (кг)\n",
        "                    gross_revenue = sales_volume * price_per_kg  # Валовий дохід (грн)\n",
        "                    cost_of_sales = gross_revenue * 0.3  # Собівартість (30% валового доходу)\n",
        "                    net_profit = gross_revenue - cost_of_sales  # Чистий прибуток\n",
        "                    purchase_frequency = random.randint(5, 20)  # Частота покупок\n",
        "\n",
        "                    sales_data.append({\n",
        "                        'Order_ID': order_id,  # Ідентифікатор замовлення\n",
        "                        'Company_Name': company_name,  # Назва компанії\n",
        "                        'Customer_Type': customer_type,  # Тип клієнта\n",
        "                        'Region': region,  # Регіон клієнта\n",
        "                        'Date': day,  # Дата замовлення\n",
        "                        'Product_Category': product_category,  # Категорія продукту\n",
        "                        'Sub_Category': sub_category,  # Підкатегорія продукту\n",
        "                        'Price_Per_KG': price_per_kg,  # Ціна за кг\n",
        "                        'Sales_Volume_KG': sales_volume,  # Обсяг продажів у кг\n",
        "                        'Gross_Revenue': round(gross_revenue, 2),  # Валовий дохід (грн)\n",
        "                        'Net_Profit': round(net_profit, 2),  # Чистий прибуток (грн)\n",
        "                        'Cost_of_Sales': round(cost_of_sales, 2),  # Собівартість (грн)\n",
        "                        'Purchase_Frequency': purchase_frequency,  # Частота покупок за місяць\n",
        "                        'Average_Order_Value': round((gross_revenue / purchase_frequency), 2),  # Середня вартість замовлення\n",
        "                        'Inventory_Turnover': random.randint(50, 300),  # Оборотність товарів (%)\n",
        "                        'Customer_Loyalty': round(random.uniform(0.0, 1.0), 2),  # Лояльність клієнтів\n",
        "                        'Delivery_Time_Days': random.randint(1, 7)  # Час доставки в днях\n",
        "                    })\n",
        "\n",
        "                    order_id += 1\n",
        "\n",
        "    return pd.DataFrame(sales_data)\n",
        "\n",
        "# Генерація даних про продукти та продажі\n",
        "product_df = generate_product_data(categories)  # Дані про продукти\n",
        "sales_df = generate_sales_data(num_companies, regions, start_year, num_years, categories)  # Дані про продажі\n",
        "\n",
        "# Збереження даних у CSV файли\n",
        "sales_df.to_csv('sales_data.csv', index=False)\n",
        "product_df.to_csv('product_data.csv', index=False)\n",
        "\n",
        "print(\"Data generation complete. Files saved as sales_data.csv and product_data.csv.\")\n"
      ],
      "metadata": {
        "id": "bW4koQesfEA7",
        "colab": {
          "base_uri": "https://localhost:8080/",
          "height": 384
        },
        "outputId": "ee7a0936-f93d-4913-f713-a3200659586b"
      },
      "execution_count": 1,
      "outputs": [
        {
          "output_type": "error",
          "ename": "ModuleNotFoundError",
          "evalue": "No module named 'faker'",
          "traceback": [
            "\u001b[0;31m---------------------------------------------------------------------------\u001b[0m",
            "\u001b[0;31mModuleNotFoundError\u001b[0m                       Traceback (most recent call last)",
            "\u001b[0;32m<ipython-input-1-dc9ccd2aef5a>\u001b[0m in \u001b[0;36m<cell line: 2>\u001b[0;34m()\u001b[0m\n\u001b[1;32m      1\u001b[0m \u001b[0;32mimport\u001b[0m \u001b[0mpandas\u001b[0m \u001b[0;32mas\u001b[0m \u001b[0mpd\u001b[0m\u001b[0;34m\u001b[0m\u001b[0;34m\u001b[0m\u001b[0m\n\u001b[0;32m----> 2\u001b[0;31m \u001b[0;32mfrom\u001b[0m \u001b[0mfaker\u001b[0m \u001b[0;32mimport\u001b[0m \u001b[0mFaker\u001b[0m\u001b[0;34m\u001b[0m\u001b[0;34m\u001b[0m\u001b[0m\n\u001b[0m\u001b[1;32m      3\u001b[0m \u001b[0;32mimport\u001b[0m \u001b[0mrandom\u001b[0m\u001b[0;34m\u001b[0m\u001b[0;34m\u001b[0m\u001b[0m\n\u001b[1;32m      4\u001b[0m \u001b[0;32mfrom\u001b[0m \u001b[0mdatetime\u001b[0m \u001b[0;32mimport\u001b[0m \u001b[0mdatetime\u001b[0m\u001b[0;34m\u001b[0m\u001b[0;34m\u001b[0m\u001b[0m\n\u001b[1;32m      5\u001b[0m \u001b[0;32mfrom\u001b[0m \u001b[0mcalendar\u001b[0m \u001b[0;32mimport\u001b[0m \u001b[0mmonthrange\u001b[0m\u001b[0;34m\u001b[0m\u001b[0;34m\u001b[0m\u001b[0m\n",
            "\u001b[0;31mModuleNotFoundError\u001b[0m: No module named 'faker'",
            "",
            "\u001b[0;31m---------------------------------------------------------------------------\u001b[0;32m\nNOTE: If your import is failing due to a missing package, you can\nmanually install dependencies using either !pip or !apt.\n\nTo view examples of installing some common dependencies, click the\n\"Open Examples\" button below.\n\u001b[0;31m---------------------------------------------------------------------------\u001b[0m\n"
          ],
          "errorDetails": {
            "actions": [
              {
                "action": "open_url",
                "actionText": "Open Examples",
                "url": "/notebooks/snippets/importing_libraries.ipynb"
              }
            ]
          }
        }
      ]
    }
  ]
}