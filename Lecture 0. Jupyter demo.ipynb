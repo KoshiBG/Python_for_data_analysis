{
 "cells": [
  {
   "cell_type": "markdown",
   "metadata": {
    "ExecuteTime": {
     "end_time": "2021-08-26T13:13:22.239347Z",
     "start_time": "2021-08-26T13:13:22.237078Z"
    },
    "slideshow": {
     "slide_type": "slide"
    }
   },
   "source": [
    "# Start\n",
    "*This* is **text**"
   ]
  },
  {
   "cell_type": "code",
   "execution_count": 15,
   "metadata": {
    "ExecuteTime": {
     "end_time": "2021-09-02T13:38:07.019614Z",
     "start_time": "2021-09-02T13:38:06.884315Z"
    },
    "slideshow": {
     "slide_type": "skip"
    }
   },
   "outputs": [
    {
     "name": "stdout",
     "output_type": "stream",
     "text": [
      " Volume in drive C is Windows\n",
      " Volume Serial Number is 923D-6847\n",
      "\n",
      " Directory of C:\\Users\\oleh.koshynskyi\\Downloads\n",
      "\n",
      "11.07.2024  12:04    <DIR>          .\n",
      "11.07.2024  12:04    <DIR>          ..\n",
      "11.07.2024  12:02    <DIR>          .ipynb_checkpoints\n",
      "22.12.2023  11:54            13я927 [NNMClub.to]_[NNM-Club]_Klaus Mayer_Meyer's Bakery. Hleb i vyipechka v skandinavskoy kuhne.pdf.torrent\n",
      "22.08.2023  10:23            51я974 _5323517513222441794_121(1).pdf\n",
      "22.08.2023  10:14            71я251 _5323517513222441794_121.docx\n",
      "22.08.2023  10:13            40я882 _5323517513222441794_121.pdf\n",
      "25.06.2024  15:03           285я104 10vbkcjp.pdf\n",
      "26.09.2023  10:03         2я737я740 2.pdf\n",
      "10.05.2023  22:55         5я778я473 2023-05-04-hw-0-e2a6c41905179c110e2ed5d27263381d(1).pptx\n",
      "07.05.2023  22:38         5я778я473 2023-05-04-hw-0-e2a6c41905179c110e2ed5d27263381d.pptx\n",
      "16.05.2023  16:19         7я101я809 2023-05-09-hw-0-decf4e08a4c0391a4854737ab043c1bb.pptx\n",
      "16.05.2023  15:42            47я793 2023-05-09-hw-1-abccc7925dd36ed1e2edeb8c093edbe6.pptx\n",
      "16.05.2023  15:55         2я132я403 2023-05-09-hw-2-abccc7925dd36ed1e2edeb8c093edbe6.pptx\n",
      "16.05.2023  15:40           182я284 2023-05-09-hw-3-abccc7925dd36ed1e2edeb8c093edbe6.pptx\n",
      "07.06.2023  23:24            40я316 2023-06-06-hw-0-a8b833edaea37bc130363a9fba7a9603.pptx\n",
      "18.07.2022  15:04           446я415 3006811391_1094.pdf\n",
      "28.11.2022  12:44           379я676 5%20Korn%20Fl%C3%B6ckchen_0ZhtBvieQPKoVO6u5cDX(1).pdf\n",
      "28.11.2022  12:43           379я676 5%20Korn%20Fl%C3%B6ckchen_0ZhtBvieQPKoVO6u5cDX.pdf\n",
      "16.06.2023  10:05           275я232 5-star-2023.pdf\n",
      "27.12.2022  11:51         1я137я584 738.pdf\n",
      "10.01.2022  15:42           955я600 827b3f5f87a2bacad6b5cc4a2d87bd5c.pdf\n",
      "25.05.2023  19:14        12я776я944 AdBlockerInstaller.exe\n",
      "28.11.2022  11:35           424я099 assortiment_lejpurin_2018(1).pdf\n",
      "12.09.2023  09:38         6я845я947 bwf-catalog-food-service.pdf\n",
      "08.06.2023  23:53    <DIR>          db1000n_windows_386\n",
      "20.05.2022  16:26    <DIR>          db1000n_windows_386(1)\n",
      "19.04.2022  21:44         6я249я091 db1000n_windows_386(1).zip\n",
      "13.04.2022  13:29         6я294я349 db1000n_windows_386.zip\n",
      "21.07.2021  09:04       304я749я656 DesktopEditors_x64.exe\n",
      "16.11.2021  13:52         3я090я036 Folder_snacks_to_go_EN.pdf\n",
      "13.04.2022  13:35        79я083я672 Freedome.exe\n",
      "11.05.2022  16:08        49я638я112 Git-2.36.1-64-bit.exe\n",
      "11.05.2022  16:18       126я247я312 GitHubDesktopSetup-x64.exe\n",
      "16.11.2021  13:57        18я070я944 HACK_Gesamtkatalog_1909_RZ_EN_klein.pdf\n",
      "13.04.2022  13:56        21я659я712 HotspotShield-11.1.1-YUkev9uX.exe\n",
      "30.09.2021  11:38            25я318 hqdefault.jpg\n",
      "14.11.2022  16:21         5я312я422 hyundai-hy-125si-instrukcziya.pdf\n",
      "30.10.2023  12:34         1я893я952 IBA2023_Gelaendeplan_EN.pdf\n",
      "07.02.2023  15:24    <DIR>          ilovepdf_compressed\n",
      "21.05.2023  20:20    <DIR>          ilovepdf_compressed(1)\n",
      "21.05.2023  20:11           256я575 ilovepdf_compressed(1).zip\n",
      "21.05.2023  20:20    <DIR>          ilovepdf_compressed(2)\n",
      "21.05.2023  20:17           261я270 ilovepdf_compressed(2).zip\n",
      "21.05.2023  20:20    <DIR>          ilovepdf_compressed(3)\n",
      "21.05.2023  20:14           265я736 ilovepdf_compressed(3).zip\n",
      "21.05.2023  20:20    <DIR>          ilovepdf_compressed(4)\n",
      "21.05.2023  20:18           268я247 ilovepdf_compressed(4).zip\n",
      "21.05.2023  20:20    <DIR>          ilovepdf_compressed(5)\n",
      "21.05.2023  20:20           243я851 ilovepdf_compressed(5).zip\n",
      "18.08.2023  15:40    <DIR>          ilovepdf_compressed(6)\n",
      "12.11.2023  22:55           356я966 ilovepdf_compressed(6).zip\n",
      "18.08.2023  15:40    <DIR>          ilovepdf_compressed(7)\n",
      "07.02.2023  15:24           319я227 ilovepdf_compressed.zip\n",
      "16.06.2023  10:15         1я421я499 information-2022.pdf\n",
      "14.11.2022  16:15         2я222я329 instr_huter_dn1000_2700.pdf\n",
      "12.01.2023  09:42           590я614 KGV-H_RU_web.pdf\n",
      "12.01.2023  09:43         2я697я687 Kleingebaeck_RU_web.pdf\n",
      "10.07.2024  09:35         1я479я882 kompiuterna_gramotnist_ta_instrumenti_dlia_roboti_z_kodom.pdf\n",
      "11.07.2024  12:01             3я702 Lecture 0. Jupyter demo.ipynb\n",
      "11.07.2024  12:04             5я542 Lecture_0_jupyter_demo.ipynb\n",
      "30.09.2021  11:40            58я343 new_england_hot_dog_bun_pan_large.jpg\n",
      "09.10.2023  13:44         7я619я856 OfficeSetup.exe\n",
      "26.04.2023  20:30    14я248я560я490 OneDrive_1_26.04.2023.zip\n",
      "14.04.2022  22:11           653я778 OpenVPNPortable_1.8.2.paf.exe\n",
      "10.07.2024  11:49           100я895 osnovni_komandi_v_bash_ta_powershell.pdf\n",
      "13.08.2021  15:53         1я671я428 output.pdf\n",
      "28.06.2024  11:25         2я501я641 power-station-ks-2000ps-3000ps-ua.pdf\n",
      "13.12.2023  13:58        10я333я317 price.pdf\n",
      "11.09.2023  09:28           321я604 prices__2023.pdf\n",
      "05.07.2024  11:05           340я882 profesiia_analitik_danix.pdf\n",
      "10.01.2022  13:37         1я265я681 programm-PY101-updated.pdf\n",
      "16.02.2022  11:44       377я284я568 pycharm-community-2021.3.2.exe\n",
      "26.04.2023  18:53       621я165я144 python web P32-20230424_190952-‡ ЇЁб ­ а ¤Ё.mp4\n",
      "12.11.2021  15:03        28я315я928 python-3.10.0-amd64.exe\n",
      "26.04.2023  08:13         1я450я531 Release-Agents-Lubricants-Zigzag-folder.pdf\n",
      "15.06.2022  09:22           829я866 roznica.xlsx\n",
      "13.04.2022  14:32            11я996 Russia.zip\n",
      "13.04.2022  14:31             8я332 Russia-udp.ovpn\n",
      "09.01.2023  13:18           116я370 scan01012001_20010101155030.pdf\n",
      "28.11.2022  12:34           209я557 Speisekarte.pdf\n",
      "16.06.2023  15:12           412я664 Try-Syny-ta-Donka-5-star-2023-02-28.pdf\n",
      "12.11.2021  15:05       140я674я456 TSLab21Setup.exe\n",
      "14.04.2022  21:27             2я261 vpn.json\n",
      "19.04.2022  21:34             9я221 VPNBook.com-OpenVPN-CA198.zip\n",
      "14.04.2022  22:07             4я668 zaborona-help_maxroutes.ovpn\n",
      "05.01.2023  10:19           150я624 Zaiava na kupivliu.pdf\n",
      "18.10.2021  12:41         1я150я631 Ђ«Ј®аЁв¬ђ Ў®вл‘§ пўЄ ¬Ё ¤«п 2.png\n",
      "29.11.2022  09:29         2я534я170 ЃЏ ЇҐЄ а­п (1).pdf\n",
      "13.11.2023  17:10           125я348 Ѓг«®зЄ  Ѓа?®и( ЎгаЈҐа­ , е®аҐЄ )_ђҐжҐЇвга _compressed.pdf\n",
      "16.06.2023  13:22           448я163 „ Ў« Ља д?­_ђҐжҐЇвга .pdf\n",
      "24.09.2023  19:33            69я698 ‡ пў  бва егў ­­п Љ®иЁ­бмЄЁ© Ћ«ҐЈ ‚®«®¤Ё¬Ёа®ўЁз(1).pdf\n",
      "24.09.2023  19:31            72я382 ‡ пў  бва егў ­­п Љ®иЁ­бмЄЁ© Ћ«ҐЈ ‚®«®¤Ё¬Ёа®ўЁз.pdf\n",
      "09.07.2024  12:14         1я702я890 « Ў®а в®а­  а®Ў®в  1 (2021).pdf\n",
      "11.01.2023  15:46           274я374 Ќ « ивгў ­­п OUTLOOK Ї® Їа®в®Є®«г POP3.docx\n",
      "23.03.2023  09:53         1я773я146 Џ бЄ  Љ®аҐ­в_ђҐжҐЇвга .pdf\n",
      "18.10.2023  21:14           112я134 ђ ег­®Є ­   ­Ј«?©бмЄЁ©_compressed.pdf\n",
      "05.12.2022  16:41            28я554 ђҐжҐЇв €а« ­¤бЄЁ© е«ҐЎ.pdf\n",
      "05.03.2024  19:51           157я725 •«?Ў <Њ а д®­1>_ђҐжҐЇвга _compressed.pdf\n",
      "15.03.2024  16:26           133я731 •«?Ў Squash(Ј аЎг§®ўЁ©).pdf\n",
      "18.08.2023  15:40           152я605 •«?Ў ’ «б? д®а¬®ўЁ©_compressed.pdf\n",
      "11.12.2023  12:42           147я740 •«?Ў в®бв®ўЁ© 'ЉгЄгаг¤§п­Ё©'_ђҐжҐЇвга _compressed.pdf\n",
      "04.01.2023  15:44           507я608 ќ©ў -Їа®.PDF\n",
      "              90 File(s) 16я134я056я305 bytes\n",
      "              13 Dir(s)  357я652я877я312 bytes free\n"
     ]
    }
   ],
   "source": [
    "ls"
   ]
  },
  {
   "cell_type": "code",
   "execution_count": null,
   "metadata": {
    "ExecuteTime": {
     "end_time": "2021-09-02T13:39:44.047065Z",
     "start_time": "2021-09-02T13:39:42.552217Z"
    },
    "code_folding": [],
    "slideshow": {
     "slide_type": "slide"
    }
   },
   "outputs": [],
   "source": [
    "import time\n",
    "\n",
    "for i in range(10):\n",
    "    time.sleep(30)"
   ]
  },
  {
   "cell_type": "code",
   "execution_count": null,
   "metadata": {
    "ExecuteTime": {
     "end_time": "2021-09-02T13:20:00.922907Z",
     "start_time": "2021-09-02T13:20:00.918750Z"
    },
    "slideshow": {
     "slide_type": "slide"
    }
   },
   "outputs": [],
   "source": [
    "s = 'Hello world!'"
   ]
  },
  {
   "cell_type": "code",
   "execution_count": null,
   "metadata": {
    "ExecuteTime": {
     "end_time": "2021-09-02T13:20:01.476184Z",
     "start_time": "2021-09-02T13:20:01.473426Z"
    }
   },
   "outputs": [],
   "source": [
    "print(s)"
   ]
  },
  {
   "cell_type": "code",
   "execution_count": null,
   "metadata": {
    "ExecuteTime": {
     "end_time": "2021-08-26T13:08:59.214823Z",
     "start_time": "2021-08-26T13:08:59.210653Z"
    }
   },
   "outputs": [],
   "source": [
    "a = 'Hello everyone!'"
   ]
  },
  {
   "cell_type": "code",
   "execution_count": null,
   "metadata": {
    "ExecuteTime": {
     "end_time": "2021-08-26T13:08:59.214823Z",
     "start_time": "2021-08-26T13:08:59.210653Z"
    }
   },
   "outputs": [],
   "source": [
    "a.lower()"
   ]
  },
  {
   "cell_type": "code",
   "execution_count": null,
   "metadata": {},
   "outputs": [],
   "source": []
  },
  {
   "cell_type": "markdown",
   "metadata": {
    "heading_collapsed": true
   },
   "source": [
    "## Continue"
   ]
  },
  {
   "cell_type": "code",
   "execution_count": null,
   "metadata": {
    "ExecuteTime": {
     "end_time": "2021-08-26T13:11:57.331309Z",
     "start_time": "2021-08-26T13:11:57.328046Z"
    },
    "hidden": true
   },
   "outputs": [],
   "source": [
    "a = 1\n",
    "b = 2\n",
    "a + b"
   ]
  },
  {
   "cell_type": "code",
   "execution_count": null,
   "metadata": {},
   "outputs": [],
   "source": [
    "print(a, b,)"
   ]
  },
  {
   "cell_type": "code",
   "execution_count": null,
   "metadata": {},
   "outputs": [],
   "source": []
  }
 ],
 "metadata": {
  "kernelspec": {
   "display_name": "Python 3 (ipykernel)",
   "language": "python",
   "name": "python3"
  },
  "language_info": {
   "codemirror_mode": {
    "name": "ipython",
    "version": 3
   },
   "file_extension": ".py",
   "mimetype": "text/x-python",
   "name": "python",
   "nbconvert_exporter": "python",
   "pygments_lexer": "ipython3",
   "version": "3.10.0"
  },
  "toc": {
   "base_numbering": 1,
   "nav_menu": {},
   "number_sections": true,
   "sideBar": true,
   "skip_h1_title": false,
   "title_cell": "Table of Contents",
   "title_sidebar": "Contents",
   "toc_cell": false,
   "toc_position": {},
   "toc_section_display": true,
   "toc_window_display": false
  }
 },
 "nbformat": 4,
 "nbformat_minor": 4
}
