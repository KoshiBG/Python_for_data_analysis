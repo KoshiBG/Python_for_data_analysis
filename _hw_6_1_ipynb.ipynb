{
  "nbformat": 4,
  "nbformat_minor": 0,
  "metadata": {
    "colab": {
      "provenance": [],
      "include_colab_link": true
    },
    "kernelspec": {
      "name": "python3",
      "display_name": "Python 3"
    },
    "language_info": {
      "name": "python"
    }
  },
  "cells": [
    {
      "cell_type": "markdown",
      "metadata": {
        "id": "view-in-github",
        "colab_type": "text"
      },
      "source": [
        "<a href=\"https://colab.research.google.com/github/KoshiBG/Python_for_data_analysis/blob/main/_hw_6_1_ipynb.ipynb\" target=\"_parent\"><img src=\"https://colab.research.google.com/assets/colab-badge.svg\" alt=\"Open In Colab\"/></a>"
      ]
    },
    {
      "cell_type": "markdown",
      "source": [
        "В цьому домашньому завданні відпрацюємо з вами знання, отримані в модулі зі статистики.\n",
        "\n",
        "**Завдання 1.** Ми обговорили з Вами на лекції, що велика літера Сігма грецького алфавіту позначає в математиці суму. Знайдіть з використанням Python $\\Sigma x$, $\\Sigma x^2$, та $\\Sigma (x-1)^2$ для наступного набору даних:\n",
        "`1 3 4`\n",
        "Виведіть результат кожного обчислення на екран."
      ],
      "metadata": {
        "id": "SDhaTqxcWhnP"
      }
    },
    {
      "cell_type": "code",
      "source": [
        "X = [1, 3, 4]\n",
        "\n",
        "# Σx (сума елементів)\n",
        "sum_x = sum(X)\n",
        "\n",
        "# Σx^2 (сума квадратів елементів)\n",
        "sum_x2 = sum(x**2 for x in X)\n",
        "\n",
        "# Σ(x−1)^2 (сума квадратів різниці між елементами і 1)\n",
        "sum_x_minus_1_sq = sum((x - 1)**2 for x in X)\n",
        "\n",
        "sum_x, sum_x2, sum_x_minus_1_sq\n"
      ],
      "metadata": {
        "id": "B1mgx_IBT0e8",
        "colab": {
          "base_uri": "https://localhost:8080/"
        },
        "outputId": "90721707-e260-4244-d350-044f6d211778"
      },
      "execution_count": null,
      "outputs": [
        {
          "output_type": "execute_result",
          "data": {
            "text/plain": [
              "(8, 26, 13)"
            ]
          },
          "metadata": {},
          "execution_count": 12
        }
      ]
    },
    {
      "cell_type": "markdown",
      "source": [
        "**Завдання 2.** Ми зібрали дані про суму покупок в гривнях 20ма випадково обраними клієнтами в нашому магазині (всього клієнтів у нас більше) за минулий місяць. Вони представлені в змінній sum_purchases. Знайдіть вибіркове середнє для цих даних кожним з зазначених методів:\n",
        "\n",
        "2.1. без використання жодних бібліотек, користуючись тільки Python.\n",
        "\n",
        "2.2. використовуючи відповідний метод бібліотеки numpy.\n",
        "\n",
        "Виведіть результат обчислень в кожному з випадків на екран та порівняйте результати. Вони співпадають?"
      ],
      "metadata": {
        "id": "XWFALMVDyces"
      }
    },
    {
      "cell_type": "code",
      "execution_count": null,
      "metadata": {
        "id": "_9kMt3rq6V5m"
      },
      "outputs": [],
      "source": [
        "sum_purchases = [ 316,  493,  367,  153,  224,  121,  322,  450,  196,  397,  281,\n",
        "  239,  484,  124,  223,  448,  432,  255, 4310, 3524]"
      ]
    },
    {
      "cell_type": "code",
      "source": [
        "#  Вибіркове середнє без використання бібліотек\n",
        "mean_manual = sum(sum_purchases) / len(sum_purchases)\n",
        "\n",
        "import numpy as np\n",
        "\n",
        "#  Вибіркове середнє з використанням бібліотеки numpy\n",
        "mean_numpy = np.mean(sum_purchases)\n",
        "\n",
        "mean_manual, mean_numpy"
      ],
      "metadata": {
        "id": "wPmL919HT1c0",
        "colab": {
          "base_uri": "https://localhost:8080/"
        },
        "outputId": "b426ec58-59d5-4e16-bff3-5fb50754a8dc"
      },
      "execution_count": null,
      "outputs": [
        {
          "output_type": "execute_result",
          "data": {
            "text/plain": [
              "(667.95, 667.95)"
            ]
          },
          "metadata": {},
          "execution_count": 5
        }
      ]
    },
    {
      "cell_type": "markdown",
      "source": [
        "**Завдання 3.** Для того ж набору даних в змінній `sum_purchases` обчисліть **медіану** кожним з зазначених методів:  \n",
        "\n",
        "  3.1. без використання жодних бібліотек, користуючись тільки Python.  \n",
        "  3.2. використовуючи відповідний метод бібліотеки numpy.  \n",
        "\n",
        "Виведіть результат обчислень в кожному з випадків на екран. Порівняйте результати зі значенням вибіркового середнього. Напишіть коментар, для яких задач ви б використовували вибіркове середнє, а для яких - медіану?"
      ],
      "metadata": {
        "id": "FMdoxZd0kZdW"
      }
    },
    {
      "cell_type": "code",
      "source": [
        " # Медіана без використання бібліотек\n",
        "sorted_data = sorted(sum_purchases)\n",
        "n = len(sorted_data)\n",
        "\n",
        "if n % 2 == 1:\n",
        "    # Якщо кількість елементів непарна\n",
        "    median_manual = sorted_data[n // 2]\n",
        "else:\n",
        "    # Якщо кількість елементів парна\n",
        "    median_manual = (sorted_data[n // 2 - 1] + sorted_data[n // 2]) / 2\n",
        "\n",
        "print(f\"Медіана (без бібліотек): {median_manual}\")"
      ],
      "metadata": {
        "id": "x58BumvuT2nl",
        "colab": {
          "base_uri": "https://localhost:8080/"
        },
        "outputId": "75a07c7b-c0de-4448-b096-3f1e4809dab9"
      },
      "execution_count": null,
      "outputs": [
        {
          "output_type": "stream",
          "name": "stdout",
          "text": [
            "Медіана (без бібліотек): 319.0\n"
          ]
        }
      ]
    },
    {
      "cell_type": "code",
      "source": [
        "# Використання бібліотеки numpy для обчислення медіани\n",
        "median_numpy = np.median(sum_purchases)\n",
        "\n",
        "print(f\"Медіана (numpy): {median_numpy}\")"
      ],
      "metadata": {
        "colab": {
          "base_uri": "https://localhost:8080/"
        },
        "id": "p6_NvbXP1Ajw",
        "outputId": "c8e0926d-6a83-4987-f170-8843ad5fb0a3"
      },
      "execution_count": null,
      "outputs": [
        {
          "output_type": "stream",
          "name": "stdout",
          "text": [
            "Медіана (numpy): 319.0\n"
          ]
        }
      ]
    },
    {
      "cell_type": "markdown",
      "source": [
        "Вибіркове середнє враховує всі значення, але може бути спотворене великими викидами (як у випадку з великими покупками 4310 і 3524 грн у нашому наборі даних).\n",
        "Медіана дає центральне значення, яке не впливається викидами і є кращим для оцінки типових покупок, якщо є значні відхилення.\n",
        "\n",
        "Вибіркове середнє краще використовувати, коли нас цікавить середнє значення всіх даних, наприклад для аналізу загальної тенденції або середньої суми покупок.\n",
        "\n",
        "Медіану слід використовувати, коли дані мають викиди або нерівномірний розподіл, і ми хочемо визначити типове значення (середню покупку, яка є більш характерною для більшості клієнтів)."
      ],
      "metadata": {
        "id": "yaJsHpqJ17yi"
      }
    },
    {
      "cell_type": "markdown",
      "source": [
        "**Завдання 4**. Обчислість стандартне відхилення наведеної вибірки в змінній `sum_purchases` кожним з зазначених методів:  \n",
        "\n",
        "  4.1. без використання жодних бібліотек, користуючись тільки Python.  \n",
        "  4.2. використовуючи відповідний метод бібліотеки numpy.  \n",
        "\n",
        "Виведіть результат обчислень в кожному з випадків на екран."
      ],
      "metadata": {
        "id": "o1Z7az2yNDQV"
      }
    },
    {
      "cell_type": "code",
      "source": [
        "#  Стандартне відхилення без використання бібліотек\n",
        "n = len(sum_purchases)\n",
        "mean_manual = sum(sum_purchases) / n\n",
        "variance_manual = sum((x - mean_manual) ** 2 for x in sum_purchases) / n\n",
        "std_dev_manual = variance_manual ** 0.5\n",
        "\n",
        "#  Стандартне відхилення з використанням бібліотеки numpy\n",
        "std_dev_numpy = np.std(sum_purchases)\n",
        "\n",
        "std_dev_manual, std_dev_numpy"
      ],
      "metadata": {
        "id": "X4ixtmL2T642",
        "colab": {
          "base_uri": "https://localhost:8080/"
        },
        "outputId": "69adda9c-9026-40cd-e934-59c8c21068ac"
      },
      "execution_count": null,
      "outputs": [
        {
          "output_type": "execute_result",
          "data": {
            "text/plain": [
              "(1096.0692713054227, 1096.0692713054227)"
            ]
          },
          "metadata": {},
          "execution_count": 19
        }
      ]
    },
    {
      "cell_type": "markdown",
      "source": [
        "**Завдання 5**. Ми провели дослідження віку студентів-першокурсників. Виявилось, що\n",
        "- 10 студентів мають вік 16 років\n",
        "- 25 студентів - 17 років\n",
        "- 20 студентів - 18 років\n",
        "- 2 студенти - 20 років\n",
        "\n",
        "Обчислість середнє значення для цієї вибірки будь-яким способом - на чистому Python або з numpy - та виведіть результат на екран."
      ],
      "metadata": {
        "id": "M1ntKTjXLVlH"
      }
    },
    {
      "cell_type": "code",
      "source": [
        "import numpy as np"
      ],
      "metadata": {
        "id": "RdIU4M-7T8R4"
      },
      "execution_count": null,
      "outputs": []
    },
    {
      "cell_type": "code",
      "source": [
        "# Дані про вік студентів-першокурсників\n",
        "ages = np.array([16, 17, 18, 20])  # Вік студентів\n",
        "counts = np.array([10, 25, 20, 2])  # Кількість студентів відповідного віку\n",
        "\n",
        "# Обчислення середнього значення за допомогою numpy\n",
        "average_age = np.average(ages, weights=counts)\n",
        "\n",
        "average_age\n"
      ],
      "metadata": {
        "colab": {
          "base_uri": "https://localhost:8080/"
        },
        "id": "gaOSwDknyauC",
        "outputId": "e076a2e5-a154-4ab4-b943-1775e748dd88"
      },
      "execution_count": null,
      "outputs": [
        {
          "output_type": "execute_result",
          "data": {
            "text/plain": [
              "17.280701754385966"
            ]
          },
          "metadata": {},
          "execution_count": 2
        }
      ]
    },
    {
      "cell_type": "markdown",
      "source": [
        "**Завдання 6**. Крім даних про суму покупок, ми зібрали ще дані про кількість відвідувань кожного з кожного покупця, які знаходяться в змінній `visits`. Обчисліть коефіцієнт кореляції Пірсона для суми покупок і кількості відвідувань кожним з зазначених методів:  \n",
        "\n",
        "  6.1. без використання жодних бібліотек, користуючись тільки Python.  \n",
        "  6.2. використовуючи відповідний метод бібліотеки numpy.  \n",
        "  \n",
        "Виведіть результат на екран. Проаналізуйте результат.\n",
        "\n",
        "Виведіть додатково графік розсіювання викликавши код нижче і зробіть заключення, чи варто щось змінити при підрахунку кореляції, аби коефіцієнт Пірсона показував коректну оцінку лінійної залежності?"
      ],
      "metadata": {
        "id": "Xx8MFkkVM53z"
      }
    },
    {
      "cell_type": "code",
      "source": [
        "visits = [ 6,  2, 10,  3,  9,  9,  2,  3,  6,  6, 10,  2,  5, 10,  3,  5,  4,\n",
        "        7,  4,  2]"
      ],
      "metadata": {
        "id": "4OIGBT7UOWhO"
      },
      "execution_count": null,
      "outputs": []
    },
    {
      "cell_type": "code",
      "source": [
        "# Обчислення коефіцієнта кореляції Пірсона вручну (без бібліотек)\n",
        "def pearson_correlation(x, y):\n",
        "    n = len(x)\n",
        "    sum_x = sum(x)\n",
        "    sum_y = sum(y)\n",
        "    sum_xy = sum(xi * yi for xi, yi in zip(x, y))\n",
        "    sum_x_squared = sum(xi**2 for xi in x)\n",
        "    sum_y_squared = sum(yi**2 for yi in y)\n",
        "\n",
        "    numerator = n * sum_xy - sum_x * sum_y\n",
        "    denominator = ((n * sum_x_squared - sum_x**2) * (n * sum_y_squared - sum_y**2)) ** 0.5\n",
        "\n",
        "    return numerator / denominator if denominator != 0 else 0\n",
        "\n",
        "correlation_manual = pearson_correlation(visits, sum_purchases)\n"
      ],
      "metadata": {
        "id": "YLNF7VbeT97Q"
      },
      "execution_count": null,
      "outputs": []
    },
    {
      "cell_type": "code",
      "source": [
        "# Обчислення коефіцієнта кореляції Пірсона за допомогою numpy\n",
        "correlation_numpy = np.corrcoef(visits, sum_purchases)[0, 1]\n",
        "\n",
        "correlation_manual, correlation_numpy"
      ],
      "metadata": {
        "colab": {
          "base_uri": "https://localhost:8080/"
        },
        "id": "PB-rOGyP6SJs",
        "outputId": "5be2d298-995b-4bad-88b5-442dbbf9c6b3"
      },
      "execution_count": null,
      "outputs": [
        {
          "output_type": "execute_result",
          "data": {
            "text/plain": [
              "(-0.3026584468766645, -0.3026584468766646)"
            ]
          },
          "metadata": {},
          "execution_count": 10
        }
      ]
    },
    {
      "cell_type": "code",
      "source": [
        "import matplotlib.pyplot as plt\n",
        "\n",
        "plt.scatter(sum_purchases, visits)\n",
        "plt.title('Scatter Plot of Purchases vs. Visits')\n",
        "plt.xlabel('Sum of Purchases')\n",
        "plt.ylabel('Number of Visits');"
      ],
      "metadata": {
        "colab": {
          "base_uri": "https://localhost:8080/",
          "height": 472
        },
        "id": "gaeoGA-5Prr1",
        "outputId": "6cb98ee1-d393-4487-f585-ec728ccdc62c"
      },
      "execution_count": null,
      "outputs": [
        {
          "output_type": "display_data",
          "data": {
            "text/plain": [
              "<Figure size 640x480 with 1 Axes>"
            ],
            "image/png": "[encoded data removed]"
          },
          "metadata": {}
        }
      ]
    },
    {
      "cell_type": "markdown",
      "source": [
        "Негативна кореляція може вказувати на те, що деякі покупці з великою кількістю відвідувань роблять менші покупки, або що існують інші фактори, які впливають на цей зв'язок, скоріше за все це викиди."
      ],
      "metadata": {
        "id": "UIoX5w-m6-fm"
      }
    },
    {
      "cell_type": "markdown",
      "source": [
        "**Завдання 7**. В попередньому завданні ми помітили, що викиди нам заважають отримати \"правдиве\" значення кореляції. Давайте вилучимо записи, які відповідають значенням з викидами в сумі покупок і обчисліть коеф. кореляції. Для цього поставте `threshold`, який дорінює середньому значенню + 2 стандартних вдіхилля суми покупок і всі значення, які більше за нього, будемо вважати викидами (є і інші правила для визначення викидів - з ним и познайомимось пізніше).\n",
        "\n",
        "Вилучіть значення з обох масивів і обчисліть коеф. кореляції Пірсона з допомогою `numpy` для кількості візитів і суми покупок без записів-викидів. Виведіть результат на екран, побудуйте діаграму розсіювання і проаналізуйте результат: що можемо сказати про залежність в даних?"
      ],
      "metadata": {
        "id": "4pEg0KzSQ6KA"
      }
    },
    {
      "cell_type": "code",
      "source": [
        "# Обчислення середнього значення та стандартного відхилення для суми покупок\n",
        "mean_purchases = np.mean(sum_purchases)\n",
        "std_purchases = np.std(sum_purchases)\n",
        "\n",
        "# Визначення порогу для викидів\n",
        "threshold = mean_purchases + 2 * std_purchases\n",
        "\n",
        "# Вилучення значень-викидів\n",
        "filtered_visits = []\n",
        "filtered_sum_purchases = []\n",
        "\n",
        "for visit, purchase in zip(visits, sum_purchases):\n",
        "    if purchase <= threshold:\n",
        "        filtered_visits.append(visit)\n",
        "        filtered_sum_purchases.append(purchase)\n",
        "\n",
        "# Обчислення коефіцієнта кореляції Пірсона без викидів\n",
        "filtered_correlation = np.corrcoef(filtered_visits, filtered_sum_purchases)[0, 1]\n",
        "\n",
        "# Побудова діаграми розсіювання\n",
        "plt.scatter(filtered_visits, filtered_sum_purchases)\n",
        "plt.title(\"Scatter plot: Visits vs Purchases (without outliers)\")\n",
        "plt.xlabel(\"Number of visits\")\n",
        "plt.ylabel(\"Sales (sum)\")\n",
        "plt.show()\n",
        "\n",
        "filtered_correlation\n"
      ],
      "metadata": {
        "id": "Yj3Yfaf7UBbc",
        "colab": {
          "base_uri": "https://localhost:8080/",
          "height": 489
        },
        "outputId": "9ffac7a1-2a74-4ce6-acc6-b8853250dca9"
      },
      "execution_count": null,
      "outputs": [
        {
          "output_type": "display_data",
          "data": {
            "text/plain": [
              "<Figure size 640x480 with 1 Axes>"
            ],
            "image/png": "[encoded data removed]"
          },
          "metadata": {}
        },
        {
          "output_type": "execute_result",
          "data": {
            "text/plain": [
              "-0.36852120781277986"
            ]
          },
          "metadata": {},
          "execution_count": 12
        }
      ]
    },
    {
      "cell_type": "markdown",
      "source": [
        "Залежність між кількістю відвідувань і сумою покупок залишається слабкою негативною. Це може свідчити про те, що збільшення кількості візитів не обов'язково призводить до більших покупок, або існують інші фактори, які впливають на цю залежність. Вилучення викидів покращило кореляцію, але вона все ще далека від сильної лінійної залежності."
      ],
      "metadata": {
        "id": "gyzwLf5o8A1O"
      }
    }
  ]
}