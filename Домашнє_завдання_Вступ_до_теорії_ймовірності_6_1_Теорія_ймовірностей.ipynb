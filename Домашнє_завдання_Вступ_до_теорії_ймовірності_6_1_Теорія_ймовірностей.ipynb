{
  "nbformat": 4,
  "nbformat_minor": 0,
  "metadata": {
    "colab": {
      "provenance": [],
      "authorship_tag": "ABX9TyPcPhGxj9H4o3yh3slezB+e",
      "include_colab_link": true
    },
    "kernelspec": {
      "name": "python3",
      "display_name": "Python 3"
    },
    "language_info": {
      "name": "python"
    }
  },
  "cells": [
    {
      "cell_type": "markdown",
      "metadata": {
        "id": "view-in-github",
        "colab_type": "text"
      },
      "source": [
        "<a href=\"https://colab.research.google.com/github/KoshiBG/Python_for_data_analysis/blob/main/%D0%94%D0%BE%D0%BC%D0%B0%D1%88%D0%BD%D1%94_%D0%B7%D0%B0%D0%B2%D0%B4%D0%B0%D0%BD%D0%BD%D1%8F_%D0%92%D1%81%D1%82%D1%83%D0%BF_%D0%B4%D0%BE_%D1%82%D0%B5%D0%BE%D1%80%D1%96%D1%97_%D0%B9%D0%BC%D0%BE%D0%B2%D1%96%D1%80%D0%BD%D0%BE%D1%81%D1%82%D1%96_6_1_%D0%A2%D0%B5%D0%BE%D1%80%D1%96%D1%8F_%D0%B9%D0%BC%D0%BE%D0%B2%D1%96%D1%80%D0%BD%D0%BE%D1%81%D1%82%D0%B5%D0%B9.ipynb\" target=\"_parent\"><img src=\"https://colab.research.google.com/assets/colab-badge.svg\" alt=\"Open In Colab\"/></a>"
      ]
    },
    {
      "cell_type": "code",
      "execution_count": null,
      "metadata": {
        "id": "tmUs6LO8zYs8"
      },
      "outputs": [],
      "source": []
    },
    {
      "cell_type": "markdown",
      "source": [
        "# Завдання 1"
      ],
      "metadata": {
        "id": "p7Iuz2bp9Dr3"
      }
    },
    {
      "cell_type": "markdown",
      "source": [
        "**Кількість підписників**:  травень: S1 = 100 * q  \n",
        "Де q = 0.95, це 5% відтоку коритсувачів щомісяця\n",
        "\n",
        "  червень S2 = (S1 + 150)* q\n",
        "\n",
        "  липень  S3 = (S2 + 170)* q\n"
      ],
      "metadata": {
        "id": "SovaLWq7zmZs"
      }
    },
    {
      "cell_type": "code",
      "source": [
        "q = 0.95\n",
        "S1 = 100* q\n",
        "\n",
        "S2 = (S1 + 150)*q\n",
        "S3 = (S2 + 170)*q\n",
        "\n",
        "S_sum = round(S1 + S2 + S3)  # кількість користувачів з травня по липень\n",
        "type(S_sum)"
      ],
      "metadata": {
        "colab": {
          "base_uri": "https://localhost:8080/"
        },
        "id": "CJU0-FIi1XFb",
        "outputId": "f4b32792-7610-42a5-b9ae-3b07bcb00d3e"
      },
      "execution_count": 28,
      "outputs": [
        {
          "output_type": "execute_result",
          "data": {
            "text/plain": [
              "int"
            ]
          },
          "metadata": {},
          "execution_count": 28
        }
      ]
    },
    {
      "cell_type": "markdown",
      "source": [
        "З Липня 2019 року по травень 2021 року загальну кількість користувачів можливо обчислити через  суму членів геометрічної прогресії,  де *Sn* -  кількість користувачів в місяц, *n* - кількість місяців, *q* - відсоток відтоку користувачів в місяць."
      ],
      "metadata": {
        "id": "7FuAROnq3Hsz"
      }
    },
    {
      "cell_type": "code",
      "source": [
        "# Функція для генерації  загальної  кількості  коритсувачів за n місяців\n",
        "def geometric_progression(Sn, q, n):\n",
        "    return [Sn * q**(i) for i in range(n)]\n",
        "\n",
        "# Параметри прогресії\n",
        "\n",
        "Sn = S3  #   перший член\n",
        "# q          знаменник\n",
        "n = 22   #   кількість місяців\n",
        "\n",
        "# Виведемо  загальну суму користувачів з липня\n",
        "S_tot = sum(geometric_progression(Sn, q, n))\n",
        "\n",
        "print(round(S_tot))\n",
        "type(S_tot)"
      ],
      "metadata": {
        "colab": {
          "base_uri": "https://localhost:8080/"
        },
        "id": "GO_7nXuxBAPG",
        "outputId": "c96f1d30-9ac2-483d-b385-e44a15727c51"
      },
      "execution_count": 33,
      "outputs": [
        {
          "output_type": "stream",
          "name": "stdout",
          "text": [
            "5176\n"
          ]
        },
        {
          "output_type": "execute_result",
          "data": {
            "text/plain": [
              "float"
            ]
          },
          "metadata": {},
          "execution_count": 33
        }
      ]
    },
    {
      "cell_type": "markdown",
      "source": [
        "Обчислим загальну кількість коритсувачів S_total, та суму згенерованого доходу за 24 місяця, враховуючи вартість підписки в місяць prise_subs 10$"
      ],
      "metadata": {
        "id": "vJy_VYpzHs1v"
      }
    },
    {
      "cell_type": "code",
      "source": [
        "S_total = (S_sum + S_tot)\n",
        "prise_subs = 10\n",
        "total_income = round(S_total*prise_subs, 2)\n",
        "print(f'Загальний дохід = {total_income}')"
      ],
      "metadata": {
        "colab": {
          "base_uri": "https://localhost:8080/"
        },
        "id": "iN-V0HeAHFRb",
        "outputId": "b1ed294f-cdf4-4194-f61f-686526a01b6c"
      },
      "execution_count": 35,
      "outputs": [
        {
          "output_type": "stream",
          "name": "stdout",
          "text": [
            "Загальний дохід = 58864.9\n"
          ]
        }
      ]
    }
  ]
}